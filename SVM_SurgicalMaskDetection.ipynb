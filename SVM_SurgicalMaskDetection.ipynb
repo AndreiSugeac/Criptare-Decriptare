{
  "nbformat": 4,
  "nbformat_minor": 0,
  "metadata": {
    "colab": {
      "name": "SVM_SurgicalMaskDetection.ipynb",
      "provenance": [],
      "collapsed_sections": [],
      "mount_file_id": "1nwhvC9y_cP4Co6yIJLKZsjcBFDuWvyeL",
      "authorship_tag": "ABX9TyNNEu8YSgyjXr8nfhywbGlZ",
      "include_colab_link": true
    },
    "kernelspec": {
      "name": "python3",
      "display_name": "Python 3"
    }
  },
  "cells": [
    {
      "cell_type": "markdown",
      "metadata": {
        "id": "view-in-github",
        "colab_type": "text"
      },
      "source": [
        "<a href=\"https://colab.research.google.com/github/AndreiSugeac/Criptare-Decriptare/blob/master/SVM_SurgicalMaskDetection.ipynb\" target=\"_parent\"><img src=\"https://colab.research.google.com/assets/colab-badge.svg\" alt=\"Open In Colab\"/></a>"
      ]
    },
    {
      "cell_type": "code",
      "metadata": {
        "id": "XaeGnNgVGewD",
        "colab_type": "code",
        "colab": {}
      },
      "source": [
        "!unzip '/content/drive/My Drive/ML_Datasets/ml-fmi-23-2020.zip'"
      ],
      "execution_count": 0,
      "outputs": []
    },
    {
      "cell_type": "code",
      "metadata": {
        "id": "T3lhGw0LGVgh",
        "colab_type": "code",
        "colab": {}
      },
      "source": [
        "import numpy as np\n",
        "import matplotlib.pyplot as plt\n",
        "from scipy.io.wavfile import read\n",
        "import librosa"
      ],
      "execution_count": 0,
      "outputs": []
    },
    {
      "cell_type": "code",
      "metadata": {
        "id": "I6F5xO75KBD1",
        "colab_type": "code",
        "colab": {}
      },
      "source": [
        "import matplotlib.pyplot as plt\n",
        "import librosa.display\n",
        "\n",
        "def extract_features(file_name):\n",
        "  # we're loading the .wav file using the librosa load function\n",
        "  data, sr = librosa.load(file_name, sr=None, res_type='kaiser_best')\n",
        "  # representing the data as mfcc\n",
        "  mfcc_conv = librosa.feature.mfcc(data, sr, n_mfcc=30)\n",
        "  # transforming our mfcc into an 1D np array so it's easier to interpret\n",
        "  mfcc = np.mean(mfcc_conv.T, axis=0)\n",
        "  return mfcc"
      ],
      "execution_count": 0,
      "outputs": []
    },
    {
      "cell_type": "code",
      "metadata": {
        "id": "C-U2px6IatDv",
        "colab_type": "code",
        "colab": {}
      },
      "source": [
        "import os\n",
        "import pandas as pd\n",
        "\n",
        "def get_data(f_name, l_name):\n",
        "  features = []\n",
        "  files = os.listdir(f_name)\n",
        "\n",
        "  # extracting the lables for the data\n",
        "  lables = pd.read_csv(l_name, sep=',', header=None)\n",
        "  lables.columns = ['File Name', 'Lable']\n",
        "\n",
        "  # iterating through the files and setting up the data while extracting the features\n",
        "  for temp_file in files:\n",
        "    file_name = os.path.join(f_name, temp_file)\n",
        "    mfcc_feature = extract_features(file_name)\n",
        "    #getting the coresponding lable for the file\n",
        "    lable = lables.loc[lables['File Name'] == temp_file].iloc[0]['Lable']\n",
        "    features.append([mfcc_feature, lable])\n",
        "\n",
        "  return features"
      ],
      "execution_count": 0,
      "outputs": []
    },
    {
      "cell_type": "code",
      "metadata": {
        "id": "gc-yFK5KgXyb",
        "colab_type": "code",
        "colab": {}
      },
      "source": [
        "# here we get the training data\n",
        "train = get_data('/content/train/train', '/content/train.txt')"
      ],
      "execution_count": 0,
      "outputs": []
    },
    {
      "cell_type": "code",
      "metadata": {
        "id": "ffcclCm0m8HG",
        "colab_type": "code",
        "colab": {}
      },
      "source": [
        "# here we get the testing data\n",
        "test = get_data('/content/validation/validation', '/content/validation.txt')"
      ],
      "execution_count": 0,
      "outputs": []
    },
    {
      "cell_type": "code",
      "metadata": {
        "id": "jv9Q6Xc8gdKy",
        "colab_type": "code",
        "colab": {}
      },
      "source": [
        "train_dataframe = pd.DataFrame(train, columns=['Features', 'Lable'])\n",
        "print(train_dataframe)\n",
        "test_dataframe = pd.DataFrame(test, columns=['Features', 'Lable'])"
      ],
      "execution_count": 0,
      "outputs": []
    },
    {
      "cell_type": "code",
      "metadata": {
        "id": "9kt9k-Spxmef",
        "colab_type": "code",
        "colab": {}
      },
      "source": [
        "train_data = np.array(train_dataframe.Features.tolist())\n",
        "print(train_data)\n",
        "train_lables = np.array(train_dataframe.Lable.tolist())\n",
        "\n",
        "test_data = np.array(test_dataframe.Features.tolist())\n",
        "test_lables = np.array(test_dataframe.Lable.tolist())"
      ],
      "execution_count": 0,
      "outputs": []
    },
    {
      "cell_type": "code",
      "metadata": {
        "id": "zIm_yAqRoi6H",
        "colab_type": "code",
        "colab": {}
      },
      "source": [
        "# defining our model\n",
        "from sklearn import svm\n",
        "\n",
        "# we use C to define the optimal margin \n",
        "C = 100\n",
        "gamma = 1e-4\n",
        "model = svm.SVC(C, kernel=\"rbf\", gamma=gamma, verbose=1)\n",
        "model.fit(train_data, train_lables)\n",
        "predict_lable_train = model.predict(train_data)\n",
        "print(predict_lable_train)\n",
        "print(\"Training accuracy: \",model.score(train_data, train_lables))\n",
        "print(\"Testing accuracy: \", model.score(test_data, test_lables))"
      ],
      "execution_count": 0,
      "outputs": []
    },
    {
      "cell_type": "code",
      "metadata": {
        "id": "d4_4yP4guMgG",
        "colab_type": "code",
        "colab": {}
      },
      "source": [
        "ent = os.listdir('/content/test/test')\n",
        "data_to_eval = []\n",
        "for val in ent:\n",
        "  testing_name = os.path.join('/content/test/test', val)\n",
        "  feature = extract_features(testing_name)\n",
        "  data_to_eval.append(feature)\n",
        "\n",
        "print(data_to_eval)"
      ],
      "execution_count": 0,
      "outputs": []
    },
    {
      "cell_type": "code",
      "metadata": {
        "id": "ayr3mzOczIZy",
        "colab_type": "code",
        "colab": {}
      },
      "source": [
        "data_ev = np.array(data_to_eval)\n",
        "lables_predicted = model.predict(data_ev)\n",
        "print(lables_predicted)\n",
        "print(lables_predicted[2998])"
      ],
      "execution_count": 0,
      "outputs": []
    },
    {
      "cell_type": "code",
      "metadata": {
        "id": "z0x8C1pm49T6",
        "colab_type": "code",
        "colab": {}
      },
      "source": [
        "f = open(\"predictions.txt\", \"a\")\n",
        "f.write(\"name,label\\n\")\n",
        "ind = 0\n",
        "for name in ent:\n",
        "  f.write(str(name) + ',' + str(lables_predicted[ind]) + \"\\n\")\n",
        "  ind += 1\n",
        "\n",
        "f.close()"
      ],
      "execution_count": 0,
      "outputs": []
    },
    {
      "cell_type": "code",
      "metadata": {
        "id": "TX5nwgPf8buN",
        "colab_type": "code",
        "colab": {}
      },
      "source": [
        "import csv\n",
        "\n",
        "with open(\"csvPrediction.csv\", 'x') as fl:\n",
        "  writer = csv.writer(fl)\n",
        "  writer.writerow([\"name\", \"label\"])\n",
        "  ind = 0\n",
        "  for name in ent:\n",
        "    writer.writerow([str(name), str(lables_predicted[ind])])\n",
        "    ind += 1"
      ],
      "execution_count": 0,
      "outputs": []
    }
  ]
}